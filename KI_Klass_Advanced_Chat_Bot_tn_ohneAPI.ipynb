{
 "cells": [
  {
   "cell_type": "markdown",
   "id": "804e7455",
   "metadata": {},
   "source": [
    "Einfacher Chat-Bot als Idee eines Abschlussprojekts:\n",
    "\n",
    "\n",
    "Proof of Concept (PoC) – 5 Schritte:\n",
    "- Einfache Chat-Oberfläche erstellen (Python)\n",
    "- Statische Antworten mit GPT erzeugen\n",
    "- Erste Eingaben durch Kunden simulieren\n",
    "- Antworten kontrollieren (Qualität, Relevanz)\n",
    "- Stakeholder-Demo mit Beispiel-Dialogen\n"
   ]
  },
  {
   "cell_type": "markdown",
   "id": "b746a803",
   "metadata": {},
   "source": [
    "Prototyp 1: \n",
    "\n",
    "Sehr einfache Ausführung"
   ]
  },
  {
   "cell_type": "code",
   "execution_count": null,
   "id": "d6971c47",
   "metadata": {},
   "outputs": [],
   "source": [
    "import openai\n",
    "\n",
    "# 🔑 OpenAI API-Key hier einfügen\n",
    "#openai.api_key = \"DEIN_OPENAI_API_KEY\"\n",
    "\n",
    "openai.api_key = \"\"\n",
    "def kunden_chatbot(frage):\n",
    "    system_message = {\n",
    "        \"role\": \"system\",\n",
    "        \"content\": (\n",
    "            \"Du bist ein hilfsbereiter Kundenberater für ein Online-Shop-System. \"\n",
    "            \"Beantworte Fragen freundlich, knapp und präzise.\"\n",
    "        )\n",
    "    }\n",
    "\n",
    "    user_message = {\"role\": \"user\", \"content\": frage}\n",
    "\n",
    "    response = openai.ChatCompletion.create(\n",
    "        model=\"gpt-3.5-turbo\",  # oder \"gpt-4\" bei Bedarf\n",
    "        messages=[system_message, user_message],\n",
    "        temperature=0.4    # Kreativität 0: streng , 1 sehr kreativ\n",
    "    )\n",
    "\n",
    "    return response[\"choices\"][0][\"message\"][\"content\"]\n",
    "\n",
    "# Beispiel: Test des Chatbots\n",
    "frage = \"Wie kann ich ein Produkt zurückgeben?\"\n",
    "antwort = kunden_chatbot(frage)\n",
    "print(\"Antwort des Chatbots:\\n\", antwort)\n"
   ]
  },
  {
   "cell_type": "markdown",
   "id": "0e9e1156",
   "metadata": {},
   "source": [
    "Prototyp 2:\n",
    "\n",
    "\n",
    "Was wurde verbessert:\n",
    "\n",
    "\n",
    "Hier ist eine verbesserte Version deines Prototyps für einen Kundenservice-Chatbot mit:\n",
    "\n",
    "- Benutzerfreundlichem Input für den Kunden (über input()),\n",
    "- einer ansprechenderen Konsolenausgabe (freundlicheres Layout), besserem Kommentarstil,\n"
   ]
  },
  {
   "cell_type": "code",
   "execution_count": null,
   "id": "f8ac190c",
   "metadata": {},
   "outputs": [],
   "source": [
    "import openai\n",
    "\n",
    "# 🔑 OpenAI API-Key hier einfügen\n",
    "# openai.api_key = \"DEIN_OPENAI_API_KEY\"\n",
    "\n",
    "openai.api_key = \"\"\n",
    "def kunden_chatbot(frage):\n",
    "    \"\"\"\n",
    "    Führt eine Kundenanfrage an das OpenAI-Modell weiter und gibt die Antwort zurück.\n",
    "    \"\"\"\n",
    "    system_message = {\n",
    "        \"role\": \"system\",\n",
    "        \"content\": (\n",
    "            \"Du bist ein hilfsbereiter Kundenberater für ein Online-Shop-System. \"\n",
    "            \"Beantworte Fragen freundlich, knapp und präzise.\"\n",
    "        )\n",
    "    }\n",
    "\n",
    "    user_message = {\"role\": \"user\", \"content\": frage}\n",
    "\n",
    "    response = openai.ChatCompletion.create(\n",
    "        model=\"gpt-3.5-turbo\",  # oder \"gpt-4\"\n",
    "        messages=[system_message, user_message],\n",
    "        temperature=0.4\n",
    "    )\n",
    "\n",
    "    return response[\"choices\"][0][\"message\"][\"content\"]\n",
    "\n",
    "# 👉 Kundenanfrage eingeben\n",
    "print(\"💬 Willkommen beim Kundenservice-Chatbot!\")\n",
    "print(\"Stellen Sie Ihre Frage zum Online-Shop. (z.B. Rückgabe, Versand, Bezahlung)\\n\")\n",
    "\n",
    "frage = input(\"❓ Ihre Frage: \")\n",
    "\n",
    "# 💡 Beispiel: \"Wie kann ich ein Produkt zurückgeben?\"\n",
    "\n",
    "antwort = kunden_chatbot(frage)\n",
    "\n",
    "print(\"\\n🤖 Antwort des Chatbots:\\n\" + \"-\"*30)\n",
    "print(antwort)\n",
    "print(\"-\"*30)\n"
   ]
  },
  {
   "cell_type": "markdown",
   "id": "0ed0bd51",
   "metadata": {},
   "source": [
    "Beispielfrage: Wie kann ich ein Produkt kaufen?\n",
    "\n",
    "\n",
    "Übung: Wie könnten Sie noch weitere Fragen stellen?\n",
    "\n"
   ]
  },
  {
   "cell_type": "markdown",
   "id": "4dcb4b76",
   "metadata": {},
   "source": [
    "Prototyp 3:\n",
    "\n",
    "\n",
    "Was wurde verbessert:\n",
    "\n",
    "optionalem Hinweis zur Eingabe von exit zum Beenden der Konversation (falls du später eine Schleife einbauen willst)."
   ]
  },
  {
   "cell_type": "code",
   "execution_count": null,
   "id": "e32a0e29",
   "metadata": {},
   "outputs": [],
   "source": [
    "import openai\n",
    "\n",
    "# 🔑 OpenAI API-Key hier einfügen\n",
    "# openai.api_key = \"DEIN_OPENAI_API_KEY\"\n",
    "\n",
    "openai.api_key = \n",
    "def kunden_chatbot(frage):\n",
    "    \"\"\"\n",
    "    Führt eine Kundenanfrage an das OpenAI-Modell weiter und gibt die Antwort zurück.\n",
    "    \"\"\"\n",
    "    system_message = {\n",
    "        \"role\": \"system\",\n",
    "        \"content\": (\n",
    "            \"Du bist ein hilfsbereiter Kundenberater für ein Online-Shop-System. \"\n",
    "            \"Beantworte Fragen freundlich, knapp und präzise.\"\n",
    "        )\n",
    "    }\n",
    "\n",
    "    user_message = {\"role\": \"user\", \"content\": frage}\n",
    "\n",
    "    response = openai.ChatCompletion.create(\n",
    "        model=\"gpt-3.5-turbo\",  # oder \"gpt-4\"\n",
    "        messages=[system_message, user_message],\n",
    "        temperature=0.4\n",
    "    )\n",
    "\n",
    "    return response[\"choices\"][0][\"message\"][\"content\"]\n",
    "\n",
    "# 👉 Kundenanfrage eingeben\n",
    "print(\"💬 Willkommen beim Kundenservice-Chatbot!\")\n",
    "print(\"Stellen Sie Ihre Frage zum Online-Shop. (z.B. Rückgabe, Versand, Bezahlung)\\n\")\n",
    "\n",
    "while True:\n",
    "    frage = input(\"\\n❓ Ihre Frage (oder 'exit' zum Beenden): \")\n",
    "    if frage.lower() == \"exit\":\n",
    "        print(\"👋 Vielen Dank für Ihre Anfrage. Auf Wiedersehen!\")\n",
    "        break\n",
    "\n",
    "    antwort = kunden_chatbot(frage)\n",
    "    print(\"\\n🤖 Antwort des Chatbots:\\n\" + \"-\"*30)\n",
    "    print(antwort)\n",
    "    print(\"-\"*30)\n",
    "\n"
   ]
  },
  {
   "cell_type": "markdown",
   "id": "c7c47d92",
   "metadata": {},
   "source": [
    "Fragen: Wie kann man ein Produkt zurückgeben?\n",
    "\n",
    "Wie kann man ein altes Produkt umtauschen bei einem Fehler?\n",
    "\n"
   ]
  },
  {
   "cell_type": "markdown",
   "id": "2b2b0e58",
   "metadata": {},
   "source": [
    "Prototyp 4:\n",
    "\n",
    "\n",
    "Verbesserte Ausgabe"
   ]
  },
  {
   "cell_type": "code",
   "execution_count": null,
   "id": "ae69aa94",
   "metadata": {},
   "outputs": [],
   "source": [
    "import openai\n",
    "import textwrap  # Für automatische Zeilenumbrüche\n",
    "\n",
    "# 🔑 OpenAI API-Key hier einfügen\n",
    "# openai.api_key = \"DEIN_OPENAI_API_KEY\"\n",
    "\n",
    "openai.api_key = \n",
    "def kunden_chatbot(frage):\n",
    "    \"\"\"\n",
    "    Führt eine Kundenanfrage an das OpenAI-Modell weiter und gibt die Antwort zurück.\n",
    "    \"\"\"\n",
    "    system_message = {\n",
    "        \"role\": \"system\",\n",
    "        \"content\": (\n",
    "            \"Du bist ein hilfsbereiter Kundenberater für ein Online-Shop-System. \"\n",
    "            \"Beantworte Fragen freundlich, knapp und präzise.\"\n",
    "        )\n",
    "    }\n",
    "\n",
    "    user_message = {\"role\": \"user\", \"content\": frage}\n",
    "\n",
    "    response = openai.ChatCompletion.create(\n",
    "        model=\"gpt-3.5-turbo\",  # oder \"gpt-4\"\n",
    "        messages=[system_message, user_message],\n",
    "        temperature=0.4\n",
    "    )\n",
    "\n",
    "    return response[\"choices\"][0][\"message\"][\"content\"]\n",
    "\n",
    "# 👉 Kundenanfrage eingeben\n",
    "print(\"💬 Willkommen beim Kundenservice-Chatbot!\")\n",
    "print(\"Stellen Sie Ihre Frage zum Online-Shop. (z.B. Rückgabe, Versand, Bezahlung)\\n\")\n",
    "\n",
    "frage = input(\"❓ Ihre Frage: \")\n",
    "antwort = kunden_chatbot(frage)\n",
    "\n",
    "# Formatierte Ausgabe mit automatischem Zeilenumbruch\n",
    "wrapper = textwrap.TextWrapper(width=80)  # z.B. 80 Zeichen pro Zeile\n",
    "antwort_zeilenweise = wrapper.fill(antwort)\n",
    "\n",
    "print(\"\\n🤖 Antwort des Chatbots:\\n\" + \"-\"*80)\n",
    "print(antwort_zeilenweise)\n",
    "print(\"-\"*80)\n"
   ]
  },
  {
   "cell_type": "markdown",
   "id": "a833e829",
   "metadata": {},
   "source": [
    "Übung, verbessern Sie den Chatbot mit einer Schleife!"
   ]
  },
  {
   "cell_type": "markdown",
   "id": "5f4bce8a",
   "metadata": {},
   "source": [
    "\n",
    "\n",
    "Übung: Wie könnten Sie nun bewerten, ob die Antworten so Ordnung sind?\n",
    "\n",
    "Welche Metrik wäre hier sinnvoll?\n",
    "\n",
    "(Idee man könnte, die richtigen Antworten zählen?)"
   ]
  },
  {
   "cell_type": "markdown",
   "id": "83c57789",
   "metadata": {},
   "source": [
    "Lösung:"
   ]
  },
  {
   "cell_type": "markdown",
   "id": "7e900b24",
   "metadata": {},
   "source": [
    "Fragen: Wie kann ich ein Produkt bestellen?\n",
    "Antwort: Um ein Produkt zu bestellen, legen Sie es einfach in den Warenkorb und folgen\n",
    "Sie den Anweisungen zur Kasse.\n",
    "\n",
    "Frage: Wie kann ich ein Produkt umtauschen?\n",
    "Antwort: Um ein Produkt umzutauschen, kontaktiere bitte unseren Kundenservice."
   ]
  }
 ],
 "metadata": {
  "kernelspec": {
   "display_name": "WBS_2025_tensor",
   "language": "python",
   "name": "python3"
  },
  "language_info": {
   "codemirror_mode": {
    "name": "ipython",
    "version": 3
   },
   "file_extension": ".py",
   "mimetype": "text/x-python",
   "name": "python",
   "nbconvert_exporter": "python",
   "pygments_lexer": "ipython3",
   "version": "3.12.7"
  }
 },
 "nbformat": 4,
 "nbformat_minor": 5
}
